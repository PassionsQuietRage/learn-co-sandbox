{
  "nbformat": 4,
  "nbformat_minor": 0,
  "metadata": {
    "colab": {
      "name": "Untitled0.ipynb",
      "provenance": [],
      "authorship_tag": "ABX9TyN6Lg7L3dM4h8qKB3CNRWrD",
      "include_colab_link": true
    },
    "kernelspec": {
      "name": "python3",
      "display_name": "Python 3"
    },
    "language_info": {
      "name": "python"
    }
  },
  "cells": [
    {
      "cell_type": "markdown",
      "metadata": {
        "id": "view-in-github",
        "colab_type": "text"
      },
      "source": [
        "<a href=\"https://colab.research.google.com/github/PassionsQuietRage/learn-co-sandbox/blob/master/Step_1_1a_Python_Foundations_01.ipynb\" target=\"_parent\"><img src=\"https://colab.research.google.com/assets/colab-badge.svg\" alt=\"Open In Colab\"/></a>"
      ]
    },
    {
      "cell_type": "code",
      "metadata": {
        "id": "OITYZA2ZtyA0",
        "colab": {
          "base_uri": "https://localhost:8080/"
        },
        "outputId": "8347dc5e-e1d7-48c0-cd3d-6c3110e7566e"
      },
      "source": [
        "print(\"I am new to Python!\") #It is possible to write within my code blocks without python using #"
      ],
      "execution_count": null,
      "outputs": [
        {
          "output_type": "stream",
          "text": [
            "I am new to Python!\n"
          ],
          "name": "stdout"
        }
      ]
    },
    {
      "cell_type": "code",
      "metadata": {
        "colab": {
          "base_uri": "https://localhost:8080/"
        },
        "id": "We2oYwXTpoLx",
        "outputId": "4b26da06-810c-469b-c124-8c618bcbefda"
      },
      "source": [
        "age = input('What is your age? ')\n",
        "name = input('What is your name? ')\n",
        "print('Welcome to the world of Python,', name, age )"
      ],
      "execution_count": 2,
      "outputs": [
        {
          "output_type": "stream",
          "text": [
            "What is your age? 29\n",
            "What is your name? Kyle\n",
            "Welcome to the world of Python, Kyle 29\n"
          ],
          "name": "stdout"
        }
      ]
    },
    {
      "cell_type": "code",
      "metadata": {
        "colab": {
          "base_uri": "https://localhost:8080/"
        },
        "id": "BjNFe56ur10I",
        "outputId": "5bc5ffe9-9c1a-4759-8e0a-61e7719cf143"
      },
      "source": [
        "# define a string \n",
        "discount = 43.8\n",
        "\n",
        "# check type \n",
        "type(discount)"
      ],
      "execution_count": 8,
      "outputs": [
        {
          "output_type": "execute_result",
          "data": {
            "text/plain": [
              "float"
            ]
          },
          "metadata": {},
          "execution_count": 8
        }
      ]
    },
    {
      "cell_type": "code",
      "metadata": {
        "colab": {
          "base_uri": "https://localhost:8080/"
        },
        "id": "0kBED18xs6ux",
        "outputId": "269955a4-af9f-4821-ebd2-4aa5852216e9"
      },
      "source": [
        "height = 143\n",
        "type(height)"
      ],
      "execution_count": 9,
      "outputs": [
        {
          "output_type": "execute_result",
          "data": {
            "text/plain": [
              "int"
            ]
          },
          "metadata": {},
          "execution_count": 9
        }
      ]
    },
    {
      "cell_type": "code",
      "metadata": {
        "colab": {
          "base_uri": "https://localhost:8080/"
        },
        "id": "00mk1GphtEKH",
        "outputId": "ac07c054-58f8-4762-d8f3-0b36739c7131"
      },
      "source": [
        "address = '#301, Pelican Street'\n",
        "type(address)"
      ],
      "execution_count": 10,
      "outputs": [
        {
          "output_type": "execute_result",
          "data": {
            "text/plain": [
              "str"
            ]
          },
          "metadata": {},
          "execution_count": 10
        }
      ]
    },
    {
      "cell_type": "code",
      "metadata": {
        "colab": {
          "base_uri": "https://localhost:8080/"
        },
        "id": "er8ddV5KuBUk",
        "outputId": "de124dd9-38af-45b0-c1a5-907d6655ba68"
      },
      "source": [
        "# define a list\n",
        "my_favs = ['red', 'Mac & Cheese', 'Ireland']\n",
        "print(my_favs)\n",
        "\n",
        "# check length of the list\n",
        "print(len(my_favs))\n",
        "\n",
        "# check type\n",
        "type(my_favs)"
      ],
      "execution_count": 15,
      "outputs": [
        {
          "output_type": "stream",
          "text": [
            "['red', 'Mac & Cheese', 'Ireland']\n",
            "3\n"
          ],
          "name": "stdout"
        },
        {
          "output_type": "execute_result",
          "data": {
            "text/plain": [
              "list"
            ]
          },
          "metadata": {},
          "execution_count": 15
        }
      ]
    },
    {
      "cell_type": "code",
      "metadata": {
        "colab": {
          "base_uri": "https://localhost:8080/"
        },
        "id": "KR-hvlGwuxFE",
        "outputId": "f22a4571-59c2-4e9c-a8fa-eb1b165f49ad"
      },
      "source": [
        "# define range with (start,stop,step)\n",
        "range_example = range(4,40)\n",
        "print(range_example)\n",
        "\n",
        "# check length of the range\n",
        "print(len(range_example))\n",
        "\n",
        "# check type\n",
        "type(range_example)"
      ],
      "execution_count": 17,
      "outputs": [
        {
          "output_type": "stream",
          "text": [
            "range(4, 40)\n",
            "36\n"
          ],
          "name": "stdout"
        },
        {
          "output_type": "execute_result",
          "data": {
            "text/plain": [
              "range"
            ]
          },
          "metadata": {},
          "execution_count": 17
        }
      ]
    },
    {
      "cell_type": "code",
      "metadata": {
        "colab": {
          "base_uri": "https://localhost:8080/"
        },
        "id": "f9c7qf0Fvfw4",
        "outputId": "8dea9081-29ec-472f-d42d-c433fe708913"
      },
      "source": [
        "# define a dictionary\n",
        "student = {'Jake': 70, 'Mako': 75, 'Alex': 78.5}\n",
        "print(student)\n",
        "\n",
        "# check type\n",
        "type(student)"
      ],
      "execution_count": 18,
      "outputs": [
        {
          "output_type": "stream",
          "text": [
            "{'Jake': 70, 'Mako': 75, 'Alex': 78.5}\n"
          ],
          "name": "stdout"
        },
        {
          "output_type": "execute_result",
          "data": {
            "text/plain": [
              "dict"
            ]
          },
          "metadata": {},
          "execution_count": 18
        }
      ]
    },
    {
      "cell_type": "code",
      "metadata": {
        "colab": {
          "base_uri": "https://localhost:8080/"
        },
        "id": "xqr-DdY_v-3A",
        "outputId": "79037f57-d50e-4593-d408-044821bbf2c5"
      },
      "source": [
        "pi = 3.14\n",
        "radius = 2.0\n",
        "print(pi*radius**2)"
      ],
      "execution_count": 22,
      "outputs": [
        {
          "output_type": "stream",
          "text": [
            "12.56\n"
          ],
          "name": "stdout"
        }
      ]
    },
    {
      "cell_type": "code",
      "metadata": {
        "colab": {
          "base_uri": "https://localhost:8080/"
        },
        "id": "fuctLmFTxe-O",
        "outputId": "9e080cf0-3152-49c0-da6f-663880299bcf"
      },
      "source": [
        "x = 12.56\n",
        "y = 50\n",
        "print(x >= y)"
      ],
      "execution_count": 23,
      "outputs": [
        {
          "output_type": "stream",
          "text": [
            "False\n"
          ],
          "name": "stdout"
        }
      ]
    },
    {
      "cell_type": "code",
      "metadata": {
        "colab": {
          "base_uri": "https://localhost:8080/"
        },
        "id": "RqfAWy5gyZGS",
        "outputId": "f86e5b98-17b0-4d52-aed6-d7b21d15be79"
      },
      "source": [
        "# a and b are true\n",
        "a = 12.56>20 \n",
        "b = 12.56<50\n",
        "\n",
        "print(a and b)\n",
        "\n"
      ],
      "execution_count": 32,
      "outputs": [
        {
          "output_type": "stream",
          "text": [
            "False\n"
          ],
          "name": "stdout"
        }
      ]
    },
    {
      "cell_type": "code",
      "metadata": {
        "colab": {
          "base_uri": "https://localhost:8080/"
        },
        "id": "O2aPdLTDFUyZ",
        "outputId": "e8b4988d-74f5-4efd-9e6a-70a0b3e6d178"
      },
      "source": [
        "# bind number 7 to variable 'x'\n",
        "x = 7 # the value of 7 is assigned to x \n",
        "\n",
        "# print value of 'x'\n",
        "print(x)"
      ],
      "execution_count": null,
      "outputs": [
        {
          "output_type": "stream",
          "text": [
            "7\n"
          ],
          "name": "stdout"
        }
      ]
    },
    {
      "cell_type": "code",
      "metadata": {
        "colab": {
          "base_uri": "https://localhost:8080/"
        },
        "id": "H10R0sI7FXgq",
        "outputId": "6c644442-63d6-4d0e-f763-d98b3cbe466b"
      },
      "source": [
        "age = 29\n",
        "print(age)"
      ],
      "execution_count": null,
      "outputs": [
        {
          "output_type": "stream",
          "text": [
            "29\n"
          ],
          "name": "stdout"
        }
      ]
    }
  ]
}