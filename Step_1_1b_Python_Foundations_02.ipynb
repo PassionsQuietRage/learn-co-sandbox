{
  "nbformat": 4,
  "nbformat_minor": 0,
  "metadata": {
    "colab": {
      "name": "Step_1_1b_Python_Foundations_02.ipynb",
      "provenance": [],
      "authorship_tag": "ABX9TyPbX6WFvAHnp6aLIvb83hWb",
      "include_colab_link": true
    },
    "kernelspec": {
      "name": "python3",
      "display_name": "Python 3"
    },
    "language_info": {
      "name": "python"
    }
  },
  "cells": [
    {
      "cell_type": "markdown",
      "metadata": {
        "id": "view-in-github",
        "colab_type": "text"
      },
      "source": [
        "<a href=\"https://colab.research.google.com/github/PassionsQuietRage/learn-co-sandbox/blob/master/Step_1_1b_Python_Foundations_02.ipynb\" target=\"_parent\"><img src=\"https://colab.research.google.com/assets/colab-badge.svg\" alt=\"Open In Colab\"/></a>"
      ]
    },
    {
      "cell_type": "code",
      "metadata": {
        "colab": {
          "base_uri": "https://localhost:8080/"
        },
        "id": "s95uHYhj9jRV",
        "outputId": "ff5db8ee-b2fd-4c2e-de04-0650ebe77652"
      },
      "source": [
        "first_name = 'Kyle'\n",
        "last_name = 'Pesola'\n",
        "full_name = first_name + ' ' + last_name\n",
        "print(first_name)\n",
        "print(last_name)\n",
        "print(full_name)\n",
        "print(first_name*6)"
      ],
      "execution_count": 11,
      "outputs": [
        {
          "output_type": "stream",
          "text": [
            "Kyle\n",
            "Pesola\n",
            "Kyle Pesola\n",
            "KyleKyleKyleKyleKyleKyle\n"
          ],
          "name": "stdout"
        }
      ]
    },
    {
      "cell_type": "code",
      "metadata": {
        "colab": {
          "base_uri": "https://localhost:8080/"
        },
        "id": "x49WYM9pBILG",
        "outputId": "2a600b8b-347f-4747-842e-714355594850"
      },
      "source": [
        "s = \"hello\"\n",
        "s = 'y' + s[1:len(s)] + 'w'\n",
        "\n",
        "print(s)"
      ],
      "execution_count": 9,
      "outputs": [
        {
          "output_type": "stream",
          "text": [
            "yellow\n"
          ],
          "name": "stdout"
        }
      ]
    },
    {
      "cell_type": "code",
      "metadata": {
        "colab": {
          "base_uri": "https://localhost:8080/"
        },
        "id": "i1q3yxGiCC9x",
        "outputId": "867a91b9-ab25-4ca3-d00c-9381c06c7e90"
      },
      "source": [
        "# define a string \n",
        "s = \"This is one sentence!\"\n",
        "\n",
        "# indexing starts from 0 in Python\n",
        "\n",
        "\n",
        "print(s[8]) \n",
        "print(s[3:6])     \n",
        "print(s[3:6:1])   \n",
        "print(s[3:6:2])   \n",
        "print(s[::])      \n",
        "print(s[::-1])    \n",
        "print(s[8:11])  "
      ],
      "execution_count": 19,
      "outputs": [
        {
          "output_type": "stream",
          "text": [
            "o\n",
            "s i\n",
            "s i\n",
            "si\n",
            "This is one sentence!\n",
            "!ecnetnes eno si sihT\n",
            "one\n"
          ],
          "name": "stdout"
        }
      ]
    },
    {
      "cell_type": "code",
      "metadata": {
        "colab": {
          "base_uri": "https://localhost:8080/"
        },
        "id": "y3xxzMlMG6Gv",
        "outputId": "7eb873d9-b566-410b-8d70-3e383cfde603"
      },
      "source": [
        "# define a list\n",
        "new_list = ['milk','eggs','banana','bread']\n",
        "\n",
        "# view list \n",
        "print(new_list)\n",
        "print(new_list[2]) # third element\n",
        "new_list.insert(3,'Almonds')\n",
        "print(new_list)\n",
        "new_list.pop(3)\n",
        "print(new_list)\n",
        "len(new_list)\n",
        "\n"
      ],
      "execution_count": 31,
      "outputs": [
        {
          "output_type": "stream",
          "text": [
            "['milk', 'eggs', 'banana', 'bread']\n",
            "banana\n",
            "['milk', 'eggs', 'banana', 'Almonds', 'bread']\n",
            "['milk', 'eggs', 'banana', 'bread']\n"
          ],
          "name": "stdout"
        },
        {
          "output_type": "execute_result",
          "data": {
            "text/plain": [
              "4"
            ]
          },
          "metadata": {},
          "execution_count": 31
        }
      ]
    },
    {
      "cell_type": "code",
      "metadata": {
        "colab": {
          "base_uri": "https://localhost:8080/"
        },
        "id": "0Bnyk6t7DyPl",
        "outputId": "e6104078-5d23-4be5-dfe6-e145bb0859ac"
      },
      "source": [
        "# define nested lists \n",
        "nested_list = [\n",
        "               ['wolves','dogs','falcons'],\n",
        "               ['red','black','silver'],\n",
        "               ['\"Three Wooden Crosses\" by Randy Travis','\"I Can Only Imagine\" by MercyMe','\"Higher\" by Creed'],\n",
        "              ]\n",
        "\n",
        "# check nested list\n",
        "print(nested_list)"
      ],
      "execution_count": 25,
      "outputs": [
        {
          "output_type": "stream",
          "text": [
            "[['wolves', 'dogs', 'falcons'], ['red', 'black', 'silver'], ['\"Three Wooden Crosses\" by Randy Travis', '\"I Can Only Imagine\" by MercyMe', '\"Higher\" by Creed']]\n"
          ],
          "name": "stdout"
        }
      ]
    },
    {
      "cell_type": "code",
      "metadata": {
        "id": "qcLVVSUyKLw6"
      },
      "source": [
        ""
      ],
      "execution_count": null,
      "outputs": []
    }
  ]
}